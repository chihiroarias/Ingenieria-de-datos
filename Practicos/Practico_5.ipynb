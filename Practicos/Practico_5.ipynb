{
 "cells": [
  {
   "cell_type": "markdown",
   "id": "9d3a7f16",
   "metadata": {},
   "source": [
    "## 🔍 Parte 1: Setup y Carga de Datos"
   ]
  },
  {
   "cell_type": "code",
   "execution_count": null,
   "id": "ab19f3ef",
   "metadata": {},
   "outputs": [],
   "source": [
    "# === SETUP DEL ENTORNO ===\n",
    "\n",
    "# 1. Importar librerías necesarias\n",
    "import pandas as pd\n",
    "import numpy as np\n",
    "import matplotlib.pyplot as plt\n",
    "import seaborn as sns\n",
    "from scipy import stats\n",
    "from sklearn.model_selection import train_test_split\n",
    "from sklearn.impute import SimpleImputer\n",
    "from sklearn.preprocessing import StandardScaler, OneHotEncoder\n",
    "from sklearn.compose import ColumnTransformer\n",
    "from sklearn.pipeline import Pipeline\n",
    "import warnings\n",
    "warnings.filterwarnings('ignore')\n",
    "\n",
    "print(\"✅ Todas las librerías importadas correctamente\")\n",
    "\n",
    "# # 3. Configurar visualizaciones\n",
    "# plt.style.use('_______')  # estilo visual (ej: 'seaborn-v0_8', 'default', 'classic')\n",
    "# sns.set_palette(\"_______\")  # paleta de colores (ej: 'husl', 'Set1', 'viridis')\n",
    "# plt.rcParams['figure.figsize'] = (12, 8)\n",
    "# plt.rcParams['font.size'] = 12\n",
    "\n",
    "print(\"🎨 Configuración de visualizaciones lista!\")"
   ]
  },
  {
   "cell_type": "markdown",
   "id": "23ce6856",
   "metadata": {},
   "source": [
    "## 🏠 Paso 2: Cargar y Crear Missing Data Sintético"
   ]
  },
  {
   "cell_type": "code",
   "execution_count": null,
   "id": "e674f148",
   "metadata": {},
   "outputs": [],
   "source": [
    "# === CARGAR DATASET AMES HOUSING ===\n",
    "\n",
    "# 1. Cargar dataset base\n",
    "df = pd.read_csv('../datasets/AmesHousing.csv')\n",
    "\n",
    "\n",
    "print(\"🏠 DATASET: Ames Housing\")\n",
    "print(f\"   📊 Forma original: {df.shape}\")\n",
    "print(f\"   📋 Columnas: {list(df.columns)}\")\n",
    "\n",
    "# 2. Crear missing data sintético para práctica\n",
    "np.random.seed(42)  # para reproducibilidad\n",
    "\n",
    "# Simular MCAR en Year Built (8% missing aleatorio)\n",
    "# \"Los valores faltan al azar: que falte un Year Built no depende de la edad ni del propio Year Built\"\n",
    "missing_year = np.random.random(len(df)) < 0.08\n",
    "df.loc[missing_year, 'Year Built'] = np._____\n",
    "\n",
    "# Simular MAR en Garage Area (missing relacionado con Garage Type)\n",
    "# \"Los faltantes de Garage Area se concentran en ciertos tipos de garaje (variable observada)\"\n",
    "df.loc[df['Garage Type'] == 'None', 'Garage Area'] = df.loc[df['Garage Type'] == 'None', 'Garage Area'].sample(frac=0.7, random_state=42)\n",
    "\n",
    "# Simular MNAR en SalePrice (missing relacionado con precio alto)\n",
    "# \"Los faltantes dependen del propio valor: quienes tienen precios altos no reportan precio\"\n",
    "high_price = df['SalePrice'] > df['SalePrice'].quantile(0.85)\n",
    "df.loc[high_price, 'SalePrice'] = df.loc[high_price, 'SalePrice'].sample(frac=0.2, random_state=42)\n",
    "\n",
    "print(\"\\n🔍 Missing data sintético creado:\")\n",
    "print(df._____().sum())  # método para contar valores faltantes por columna"
   ]
  },
  {
   "cell_type": "markdown",
   "id": "6b7dc778",
   "metadata": {},
   "source": [
    "## 📊 Paso 3: Análisis Inicial del Dataset"
   ]
  },
  {
   "cell_type": "code",
   "execution_count": null,
   "id": "a55feb94",
   "metadata": {},
   "outputs": [],
   "source": [
    "# === EXPLORACIÓN BÁSICA ===\n",
    "\n",
    "# 1. Información general del dataset\n",
    "print(\"=== INFORMACIÓN GENERAL ===\")\n",
    "print(df._____())  # método que muestra tipos de datos, memoria y valores no nulos\n",
    "\n",
    "# 2. Estadísticas descriptivas\n",
    "print(\"\\n=== ESTADÍSTICAS DESCRIPTIVAS ===\")\n",
    "print(df._____())  # método que calcula estadísticas descriptivas\n",
    "\n",
    "# 3. Tipos de datos\n",
    "print(\"\\n=== TIPOS DE DATOS ===\")\n",
    "print(df._____)  # atributo que muestra tipos de datos por columna\n",
    "\n",
    "# 4. Verificar missing data\n",
    "print(\"\\n=== MISSING DATA POR COLUMNA ===\")\n",
    "missing_count = df._____().sum()  # contar valores faltantes\n",
    "missing_pct = (missing_count / len(df)) * 100  # calcular porcentaje\n",
    "\n",
    "missing_stats = pd.DataFrame({\n",
    "    'Column': df.columns,\n",
    "    'Missing_Count': missing_count,\n",
    "    'Missing_Percentage': missing_pct\n",
    "})\n",
    "print(missing_stats[missing_stats['Missing_Count'] > 0])\n",
    "\n",
    "# 5. Análisis de memoria\n",
    "print(\"\\n=== ANÁLISIS DE MEMORIA ===\")\n",
    "total_bytes = df._____(deep=True).sum()  # método para memoria en bytes\n",
    "print(f\"Memoria total del DataFrame: {total_bytes / (1024**2):.2f} MB\")\n",
    "print(f\"Memoria por columna:\")\n",
    "for col in df.columns:\n",
    "    memory_usage = df[col]._____()  # método para memoria de una columna\n",
    "    print(f\"  {col}: {memory_usage / 1024:.2f} KB\")\n",
    "\n",
    "# 6. Análisis de duplicados\n",
    "print(\"\\n=== ANÁLISIS DE DUPLICADOS ===\")\n",
    "duplicates = df._____()  # método para detectar filas duplicadas\n",
    "print(f\"Número de filas duplicadas: {duplicates.sum()}\")\n",
    "if duplicates.sum() > 0:\n",
    "    print(\"Primeras 5 filas duplicadas:\")\n",
    "    print(df[df._____()].head())  # método para filtrar duplicados"
   ]
  }
 ],
 "metadata": {
  "kernelspec": {
   "display_name": "idd_env",
   "language": "python",
   "name": "python3"
  },
  "language_info": {
   "name": "python",
   "version": "3.12.10"
  }
 },
 "nbformat": 4,
 "nbformat_minor": 5
}
