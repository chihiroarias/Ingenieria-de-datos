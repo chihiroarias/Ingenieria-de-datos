{
 "cells": [
  {
   "cell_type": "markdown",
   "id": "9d3a7f16",
   "metadata": {},
   "source": [
    "## 🔍 Parte 1: Setup y Carga de Datos"
   ]
  },
  {
   "cell_type": "code",
   "execution_count": null,
   "id": "ab19f3ef",
   "metadata": {},
   "outputs": [],
   "source": [
    "# === SETUP DEL ENTORNO ===\n",
    "\n",
    "# 1. Importar librerías necesarias\n",
    "import pandas as pd\n",
    "import numpy as np\n",
    "import matplotlib.pyplot as plt\n",
    "import seaborn as sns\n",
    "from scipy import stats\n",
    "from sklearn.model_selection import train_test_split\n",
    "from sklearn.impute import SimpleImputer\n",
    "from sklearn.preprocessing import StandardScaler, OneHotEncoder\n",
    "from sklearn.compose import ColumnTransformer\n",
    "from sklearn.pipeline import Pipeline\n",
    "import warnings\n",
    "warnings.filterwarnings('ignore')\n",
    "\n",
    "print(\"✅ Todas las librerías importadas correctamente\")\n",
    "\n",
    "# 3. Configurar visualizaciones\n",
    "plt.style.use('_______')  # estilo visual (ej: 'seaborn-v0_8', 'default', 'classic')\n",
    "sns.set_palette(\"_______\")  # paleta de colores (ej: 'husl', 'Set1', 'viridis')\n",
    "plt.rcParams['figure.figsize'] = (12, 8)\n",
    "plt.rcParams['font.size'] = 12\n",
    "\n",
    "print(\"🎨 Configuración de visualizaciones lista!\")"
   ]
  },
  {
   "cell_type": "markdown",
   "id": "23ce6856",
   "metadata": {},
   "source": []
  },
  {
   "cell_type": "code",
   "execution_count": null,
   "id": "e674f148",
   "metadata": {},
   "outputs": [],
   "source": []
  },
  {
   "cell_type": "markdown",
   "id": "6b7dc778",
   "metadata": {},
   "source": []
  },
  {
   "cell_type": "code",
   "execution_count": null,
   "id": "a55feb94",
   "metadata": {},
   "outputs": [],
   "source": []
  }
 ],
 "metadata": {
  "kernelspec": {
   "display_name": "idd_env",
   "language": "python",
   "name": "python3"
  },
  "language_info": {
   "name": "python",
   "version": "3.12.10"
  }
 },
 "nbformat": 4,
 "nbformat_minor": 5
}
